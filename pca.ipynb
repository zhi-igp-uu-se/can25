{
 "cells": [
  {
   "cell_type": "code",
   "execution_count": null,
   "id": "1ffe7bf9",
   "metadata": {},
   "outputs": [],
   "source": [
    "import sklearn\n",
    "import scanpy as sc\n",
    "import pandas as pd\n",
    "\n",
    "scaler = StandardScaler()\n",
    "scaled_tpm = scaler.fit_transform(tpm)\n",
    "pca = PCA(n_components=2) \n",
    "pca_result = pca.fit_transform(scaled_tpm)\n",
    "\n",
    "pca_tpm = pd.DataFrame(data=pca_result, columns=['PC1', 'PC2'])\n",
    "pca_tpm_index=pca_tpm\n",
    "\n",
    "pca_tpm_index[\"Cell line\"]=metadata[\"Cell line\"]\n",
    "pca_tpm_index[\"Batch\"]=metadata[\"Batch\"]\n",
    "pca_tpm_index[\"Batch\"]= pca_tpm_index[\"Batch\"].astype(str)\n",
    "\n",
    "color_map = {'CCR7 PDPN': 'red', 'CCR7': 'blue', 'X2 PDPN': 'green','X2':\"purple\"}\n",
    "marker_map = {'1': 'o', '2': 's'}\n",
    "\n",
    "plt.figure(figsize=(8, 6))\n",
    "texts = []\n",
    "\n",
    "for i in range(len(pca_tpm)):\n",
    "    genotype = pca_tpm_index.iloc[i]['Cell line']\n",
    "    batch = pca_tpm_index.iloc[i]['Batch']\n",
    "    \n",
    "    plt.scatter(pca_result[i, 0], pca_result[i, 1], color=color_map[genotype], marker=marker_map[batch])\n",
    "\n",
    "legend_elements = [Line2D([0], [0], marker=marker_map[batch], color='w', label='Batch: ' + batch,\n",
    "                          markerfacecolor='black', markersize=10) for batch in marker_map]\n",
    "legend_elements += [Line2D([0], [0], color=color_map[genotype], lw=5, label='Cell line: ' + genotype) for genotype in color_map]\n",
    "\n",
    "plt.legend(handles=legend_elements)\n",
    "plt.title('PCA of TPM')\n",
    "plt.xlabel('PC1')\n",
    "plt.ylabel('PC2')\n",
    "plt.show()"
   ]
  }
 ],
 "metadata": {
  "kernelspec": {
   "display_name": "Python 3 (ipykernel)",
   "language": "python",
   "name": "python3"
  },
  "language_info": {
   "codemirror_mode": {
    "name": "ipython",
    "version": 3
   },
   "file_extension": ".py",
   "mimetype": "text/x-python",
   "name": "python",
   "nbconvert_exporter": "python",
   "pygments_lexer": "ipython3",
   "version": "3.11.5"
  },
  "toc": {
   "base_numbering": 1,
   "nav_menu": {},
   "number_sections": true,
   "sideBar": true,
   "skip_h1_title": false,
   "title_cell": "Table of Contents",
   "title_sidebar": "Contents",
   "toc_cell": false,
   "toc_position": {},
   "toc_section_display": true,
   "toc_window_display": false
  }
 },
 "nbformat": 4,
 "nbformat_minor": 5
}
